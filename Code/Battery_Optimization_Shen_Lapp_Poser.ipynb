{
 "cells": [
  {
   "cell_type": "code",
   "execution_count": 154,
   "metadata": {},
   "outputs": [],
   "source": [
    "#!pip install webdriver_manager\n",
    "#!pip install webdriver_manager --upgrade\n",
    "\n",
    "#!pip install selenium --upgrade\n",
    "!#webdriver_manager chrome --clear-cache\n",
    "\n"
   ]
  },
  {
   "cell_type": "code",
   "execution_count": 155,
   "metadata": {},
   "outputs": [],
   "source": [
    "import os\n",
    "import re\n",
    "import sys\n",
    "import time\n",
    "import numpy as np\n",
    "import pandas as pd\n",
    "import gurobipy as gp\n",
    "from gurobipy import GRB\n",
    "from datetime import datetime\n",
    "from selenium import webdriver\n",
    "from webdriver_manager.chrome import ChromeDriverManager\n"
   ]
  },
  {
   "cell_type": "code",
   "execution_count": 156,
   "metadata": {},
   "outputs": [],
   "source": [
    "chrome_driver_path = '/Users/coltonlapp/chromedriver'"
   ]
  },
  {
   "cell_type": "code",
   "execution_count": 157,
   "metadata": {},
   "outputs": [],
   "source": [
    "parameters = {\n",
    "    'name': 'ElectricityArbitrage',\n",
    "    'generator_name': 'ADK HUDSON___FALLS',\n",
    "    'start_date': '20231124',\n",
    "    'num_periods': 24,\n",
    "    'num_markets': 1,\n",
    "    'num_batteries': 8,\n",
    "    'battery_capacity': 100,\n",
    "    'charge_loss': 0.95,\n",
    "    'max_charge': 50,\n",
    "    'max_discharge': 100\n",
    "}"
   ]
  },
  {
   "cell_type": "code",
   "execution_count": 158,
   "metadata": {},
   "outputs": [],
   "source": [
    "def extract_date(file_path):\n",
    "    match = re.match(r'^(\\d+)', file_path.split('/')[4])\n",
    "\n",
    "    return match.group(1)"
   ]
  },
  {
   "cell_type": "code",
   "execution_count": 159,
   "metadata": {},
   "outputs": [],
   "source": [
    "def get_prices(start_date, generator_name):\n",
    "    if start_date == None:\n",
    "        start_date = datetime.today()\n",
    "        start_date = start_date.strftime(\"%Y%m%d\")\n",
    "\n",
    "    dates = [start_date]\n",
    "\n",
    "    driver_path = ChromeDriverManager().install()\n",
    "\n",
    "    home_dir = os.path.expanduser(\"~\")\n",
    "\n",
    "    download_directory = os.path.join(home_dir, 'Downloads_CSV')\n",
    "    chrome_options = webdriver.ChromeOptions()\n",
    "    prefs = {'download.default_directory': download_directory}\n",
    "    chrome_options.add_experimental_option('prefs', prefs)\n",
    "\n",
    "    try:\n",
    "        #driver = webdriver.Chrome(executable_path=driver_path, options=chrome_options)\n",
    "        #driver = webdriver.Chrome(executable_path=chrome_driver_path, options=chrome_options)\n",
    "        driver=webdriver.Chrome()\n",
    "    except:\n",
    "        try:\n",
    "            driver = webdriver.Chrome(ChromeDriverManager().install())\n",
    "        except:\n",
    "            sys.exit('Error: could not find a Chrome webdriver.')\n",
    "\n",
    "    driver.get('http://mis.nyiso.com/public/P-24Blist.htm')\n",
    "    all_links = driver.find_elements(\"xpath\", \"//a[@href]\")\n",
    "\n",
    "    if not os.path.exists(download_directory):\n",
    "        os.makedirs(download_directory)\n",
    "\n",
    "    for date in dates:\n",
    "        for link in all_links:\n",
    "            href = link.get_attribute('href')\n",
    "\n",
    "            if ('csv' in href) and (date in href):\n",
    "                link.click()\n",
    "                time.sleep(2)\n",
    "                break\n",
    "\n",
    "    csv_files = [file for file in os.listdir(download_directory) if file.endswith('.csv')]\n",
    "    prices_by_date = {}\n",
    "\n",
    "    for file_name in csv_files:\n",
    "        file_path = os.path.join(download_directory, file_name)\n",
    "        date = extract_date(file_path)\n",
    "        df = pd.read_csv(file_path)\n",
    "        prices = df[df['Name'] == generator_name][['LBMP ($/MWHr)']].values.tolist()\n",
    "\n",
    "        prices_by_date[date] = prices\n",
    "\n",
    "    driver.quit()\n",
    "\n",
    "    return prices_by_date"
   ]
  },
  {
   "cell_type": "code",
   "execution_count": 160,
   "metadata": {},
   "outputs": [],
   "source": [
    "def create_model(parameters): # num_markets is going to be 1 for the time being\n",
    "    name = parameters['name']\n",
    "    generator_name = parameters['generator_name']\n",
    "    start_date = parameters['start_date']\n",
    "    num_periods = parameters['num_periods']\n",
    "    num_markets = parameters['num_markets']\n",
    "    num_batteries = parameters['num_batteries']\n",
    "    battery_capacity = parameters['battery_capacity']\n",
    "    charge_loss = parameters['charge_loss']\n",
    "    max_charge = parameters['max_charge']\n",
    "    max_discharge = parameters['max_discharge']\n",
    "\n",
    "    model = gp.Model(name)\n",
    "\n",
    "    periods = range(num_periods)\n",
    "    markets = range(num_markets)\n",
    "\n",
    "    buy = model.addVars(num_periods, num_markets, vtype=GRB.CONTINUOUS, name='Buy')\n",
    "    sell = model.addVars(num_periods, num_markets, vtype=GRB.CONTINUOUS, name='Sell')\n",
    "\n",
    "\n",
    "    prices_by_date = get_prices(start_date, generator_name)\n",
    "    print(prices_by_date)\n",
    "    \n",
    "    # placeholder\n",
    "    start_date = '20231123'\n",
    "    #start_date = datetime.today()\n",
    "    #start_date = start_date.strftime(\"%Y%m%d\")\n",
    "\n",
    "    print(prices_by_date)\n",
    "    print(start_date)\n",
    "\n",
    "    prices = prices_by_date[start_date]\n",
    "\n",
    "    model.setObjective(\n",
    "        gp.quicksum(prices[p][i] * sell[p, i] - prices[p][i] * buy[p, i] for p in periods for i in markets),\n",
    "        GRB.MAXIMIZE\n",
    "    )\n",
    "\n",
    "    for p in range(num_periods):\n",
    "        current_level = np.sum(charge_loss * buy[p_, i] - sell[p_, i] for p_ in range(p) for i in markets)\n",
    "\n",
    "        # model.addConstr(current_level <= 0, f'EnoughToSellConstraint_period_{p+1}')\n",
    "\n",
    "        for i in markets:\n",
    "            model.addConstr(current_level <= battery_capacity * num_batteries, f'CapacityConstraint_period_{p+1}')\n",
    "            model.addConstr(sell[p, i] <= current_level, f'SupplyConstraint_period_{p+1}')\n",
    "            model.addConstr(buy[p, i] * charge_loss <= max_charge, f'ChargeConstraint_period_{p+1}')\n",
    "            model.addConstr(sell[p, i] <= max_discharge, f'DischargeConstraint_period_{p+1}')\n",
    "\n",
    "    return [model, buy, sell]"
   ]
  },
  {
   "cell_type": "code",
   "execution_count": 161,
   "metadata": {},
   "outputs": [],
   "source": [
    "def print_model(model, buy, sell, parameters):\n",
    "    num_periods = parameters['num_periods']\n",
    "    num_markets = parameters['num_markets']\n",
    "\n",
    "    if model.status == GRB.OPTIMAL:\n",
    "        print(\"\\nOptimal Solution:\")\n",
    "\n",
    "        for p in range(num_periods):\n",
    "            print(f\"\\nPeriod {p + 1}:\")\n",
    "\n",
    "            for i in range(num_markets):\n",
    "                print(f\"Buy from Market {i + 1}: {buy[p, i].x}\")\n",
    "                print(f\"Sell to Market {i + 1}: {sell[p, i].x}\")\n",
    "\n",
    "        print(f\"\\nTotal Profit: {model.objVal}\")\n",
    "    else:\n",
    "        print(\"No solution found\")"
   ]
  },
  {
   "cell_type": "code",
   "execution_count": 162,
   "metadata": {},
   "outputs": [],
   "source": [
    "def run(parameters):\n",
    "    [model, buy, sell] = create_model(parameters)\n",
    "\n",
    "    model.optimize()\n",
    "\n",
    "    print_model(model, buy, sell, parameters)\n",
    "\n",
    "    return [model, buy, sell]"
   ]
  },
  {
   "cell_type": "code",
   "execution_count": 163,
   "metadata": {},
   "outputs": [
    {
     "name": "stdout",
     "output_type": "stream",
     "text": [
      "{}\n",
      "{}\n",
      "20231123\n"
     ]
    },
    {
     "ename": "KeyError",
     "evalue": "'20231123'",
     "output_type": "error",
     "traceback": [
      "\u001b[0;31m---------------------------------------------------------------------------\u001b[0m",
      "\u001b[0;31mKeyError\u001b[0m                                  Traceback (most recent call last)",
      "\u001b[1;32m/Users/coltonlapp/Dropbox/My Mac (Coltons-MacBook-Pro.local)/Downloads/Battery_Optimization_Shen_Lapp_Poser.ipynb Cell 10\u001b[0m line \u001b[0;36m1\n\u001b[0;32m----> <a href='vscode-notebook-cell:/Users/coltonlapp/Dropbox/My%20Mac%20%28Coltons-MacBook-Pro.local%29/Downloads/Battery_Optimization_Shen_Lapp_Poser.ipynb#X11sZmlsZQ%3D%3D?line=0'>1</a>\u001b[0m model, buy, sell \u001b[39m=\u001b[39m run(parameters)\n",
      "\u001b[1;32m/Users/coltonlapp/Dropbox/My Mac (Coltons-MacBook-Pro.local)/Downloads/Battery_Optimization_Shen_Lapp_Poser.ipynb Cell 10\u001b[0m line \u001b[0;36m2\n\u001b[1;32m      <a href='vscode-notebook-cell:/Users/coltonlapp/Dropbox/My%20Mac%20%28Coltons-MacBook-Pro.local%29/Downloads/Battery_Optimization_Shen_Lapp_Poser.ipynb#X11sZmlsZQ%3D%3D?line=0'>1</a>\u001b[0m \u001b[39mdef\u001b[39;00m \u001b[39mrun\u001b[39m(parameters):\n\u001b[0;32m----> <a href='vscode-notebook-cell:/Users/coltonlapp/Dropbox/My%20Mac%20%28Coltons-MacBook-Pro.local%29/Downloads/Battery_Optimization_Shen_Lapp_Poser.ipynb#X11sZmlsZQ%3D%3D?line=1'>2</a>\u001b[0m     [model, buy, sell] \u001b[39m=\u001b[39m create_model(parameters)\n\u001b[1;32m      <a href='vscode-notebook-cell:/Users/coltonlapp/Dropbox/My%20Mac%20%28Coltons-MacBook-Pro.local%29/Downloads/Battery_Optimization_Shen_Lapp_Poser.ipynb#X11sZmlsZQ%3D%3D?line=3'>4</a>\u001b[0m     model\u001b[39m.\u001b[39moptimize()\n\u001b[1;32m      <a href='vscode-notebook-cell:/Users/coltonlapp/Dropbox/My%20Mac%20%28Coltons-MacBook-Pro.local%29/Downloads/Battery_Optimization_Shen_Lapp_Poser.ipynb#X11sZmlsZQ%3D%3D?line=5'>6</a>\u001b[0m     print_model(model, buy, sell, parameters)\n",
      "\u001b[1;32m/Users/coltonlapp/Dropbox/My Mac (Coltons-MacBook-Pro.local)/Downloads/Battery_Optimization_Shen_Lapp_Poser.ipynb Cell 10\u001b[0m line \u001b[0;36m3\n\u001b[1;32m     <a href='vscode-notebook-cell:/Users/coltonlapp/Dropbox/My%20Mac%20%28Coltons-MacBook-Pro.local%29/Downloads/Battery_Optimization_Shen_Lapp_Poser.ipynb#X11sZmlsZQ%3D%3D?line=29'>30</a>\u001b[0m \u001b[39mprint\u001b[39m(prices_by_date)\n\u001b[1;32m     <a href='vscode-notebook-cell:/Users/coltonlapp/Dropbox/My%20Mac%20%28Coltons-MacBook-Pro.local%29/Downloads/Battery_Optimization_Shen_Lapp_Poser.ipynb#X11sZmlsZQ%3D%3D?line=30'>31</a>\u001b[0m \u001b[39mprint\u001b[39m(start_date)\n\u001b[0;32m---> <a href='vscode-notebook-cell:/Users/coltonlapp/Dropbox/My%20Mac%20%28Coltons-MacBook-Pro.local%29/Downloads/Battery_Optimization_Shen_Lapp_Poser.ipynb#X11sZmlsZQ%3D%3D?line=32'>33</a>\u001b[0m prices \u001b[39m=\u001b[39m prices_by_date[start_date]\n\u001b[1;32m     <a href='vscode-notebook-cell:/Users/coltonlapp/Dropbox/My%20Mac%20%28Coltons-MacBook-Pro.local%29/Downloads/Battery_Optimization_Shen_Lapp_Poser.ipynb#X11sZmlsZQ%3D%3D?line=34'>35</a>\u001b[0m model\u001b[39m.\u001b[39msetObjective(\n\u001b[1;32m     <a href='vscode-notebook-cell:/Users/coltonlapp/Dropbox/My%20Mac%20%28Coltons-MacBook-Pro.local%29/Downloads/Battery_Optimization_Shen_Lapp_Poser.ipynb#X11sZmlsZQ%3D%3D?line=35'>36</a>\u001b[0m     gp\u001b[39m.\u001b[39mquicksum(prices[p][i] \u001b[39m*\u001b[39m sell[p, i] \u001b[39m-\u001b[39m prices[p][i] \u001b[39m*\u001b[39m buy[p, i] \u001b[39mfor\u001b[39;00m p \u001b[39min\u001b[39;00m periods \u001b[39mfor\u001b[39;00m i \u001b[39min\u001b[39;00m markets),\n\u001b[1;32m     <a href='vscode-notebook-cell:/Users/coltonlapp/Dropbox/My%20Mac%20%28Coltons-MacBook-Pro.local%29/Downloads/Battery_Optimization_Shen_Lapp_Poser.ipynb#X11sZmlsZQ%3D%3D?line=36'>37</a>\u001b[0m     GRB\u001b[39m.\u001b[39mMAXIMIZE\n\u001b[1;32m     <a href='vscode-notebook-cell:/Users/coltonlapp/Dropbox/My%20Mac%20%28Coltons-MacBook-Pro.local%29/Downloads/Battery_Optimization_Shen_Lapp_Poser.ipynb#X11sZmlsZQ%3D%3D?line=37'>38</a>\u001b[0m )\n\u001b[1;32m     <a href='vscode-notebook-cell:/Users/coltonlapp/Dropbox/My%20Mac%20%28Coltons-MacBook-Pro.local%29/Downloads/Battery_Optimization_Shen_Lapp_Poser.ipynb#X11sZmlsZQ%3D%3D?line=39'>40</a>\u001b[0m \u001b[39mfor\u001b[39;00m p \u001b[39min\u001b[39;00m \u001b[39mrange\u001b[39m(num_periods):\n",
      "\u001b[0;31mKeyError\u001b[0m: '20231123'"
     ]
    }
   ],
   "source": [
    "model, buy, sell = run(parameters)"
   ]
  }
 ],
 "metadata": {
  "kernelspec": {
   "display_name": "Python 3 (ipykernel)",
   "language": "python",
   "name": "python3"
  },
  "language_info": {
   "codemirror_mode": {
    "name": "ipython",
    "version": 3
   },
   "file_extension": ".py",
   "mimetype": "text/x-python",
   "name": "python",
   "nbconvert_exporter": "python",
   "pygments_lexer": "ipython3",
   "version": "3.11.5"
  }
 },
 "nbformat": 4,
 "nbformat_minor": 4
}
